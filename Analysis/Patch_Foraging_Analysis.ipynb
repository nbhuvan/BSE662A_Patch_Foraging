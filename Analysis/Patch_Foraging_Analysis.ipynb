{
  "nbformat": 4,
  "nbformat_minor": 0,
  "metadata": {
    "colab": {
      "name": "Patch_Foraging_Analysis.ipynb",
      "provenance": [],
      "collapsed_sections": []
    },
    "kernelspec": {
      "name": "python3",
      "display_name": "Python 3"
    },
    "language_info": {
      "name": "python"
    }
  },
  "cells": [
    {
      "cell_type": "code",
      "execution_count": 27,
      "metadata": {
        "id": "4DmBkbrFaGpk",
        "colab": {
          "base_uri": "https://localhost:8080/"
        },
        "outputId": "d939f195-a83f-4040-e614-7a1e67690a6d"
      },
      "outputs": [
        {
          "output_type": "stream",
          "name": "stdout",
          "text": [
            "Requirement already satisfied: statannot in /usr/local/lib/python3.7/dist-packages (0.2.3)\n"
          ]
        }
      ],
      "source": [
        "import pandas as pd\n",
        "import numpy as np\n",
        "import matplotlib.pyplot as plt\n",
        "import seaborn as sns\n",
        "from scipy.stats import zscore\n",
        "import theano\n",
        "import theano.tensor as T\n",
        "import pymc3 as pm\n",
        "import arviz as az\n",
        "from scipy.stats.stats import pearsonr\n",
        "from scipy import stats\n",
        "! pip install statannot\n",
        "from statannot import add_stat_annotation\n"
      ]
    },
    {
      "cell_type": "code",
      "source": [
        "test_df =pd.read_excel(r'data_all.xlsx')\n",
        "test_df = test_df[test_df['key_resp.rt']<3];\n"
      ],
      "metadata": {
        "id": "C5r7e3KEXM3j"
      },
      "execution_count": 2,
      "outputs": []
    },
    {
      "cell_type": "code",
      "source": [
        "test_df.drop(columns = ['trials.thisTrialN', 'trials.thisN', 'trials.thisIndex', 'psychopyVersion', 'frameRate', 'expName', 'date', 'session'], inplace = True)\n",
        "test_df.rename(columns = {'trials.thisRepN':'rep_no', 'key_resp.keys':'patch_selected'}, inplace = True)\n",
        "test_df['current_patch_comp'] = 0"
      ],
      "metadata": {
        "id": "m3ujG5moXM6R"
      },
      "execution_count": 3,
      "outputs": []
    },
    {
      "cell_type": "code",
      "source": [
        "for index, row in test_df.iterrows():\n",
        "    # print(row['patch_selected'], (type(row['patch_selected'])))\n",
        "    no_comp = 0\n",
        "    if row['patch_selected'] == 'left':\n",
        "        no_comp = row['left_competitors']\n",
        "    else:\n",
        "        no_comp = row['right_competitors']\n",
        "    test_df.at[index, 'current_patch_comp'] = no_comp\n",
        "test_df['threat'] = test_df['threat'].astype('bool')\n",
        "test_df['str_threat']=test_df['threat'].astype(str)\n",
        "\n",
        "test_df"
      ],
      "metadata": {
        "colab": {
          "base_uri": "https://localhost:8080/",
          "height": 483
        },
        "id": "7Ti3JwhiXM8D",
        "outputId": "fc84cb0e-cdcd-4b57-d3e2-003f7efb87f7"
      },
      "execution_count": 4,
      "outputs": [
        {
          "output_type": "execute_result",
          "data": {
            "text/plain": [
              "     S.No  rep_no  left_competitors  right_competitors  threat  no_rewards  \\\n",
              "0       1       0                 5                  1    True           1   \n",
              "1       2       1                 5                  1   False           1   \n",
              "2       3       2                 2                  5   False           4   \n",
              "3       4       3                 5                  1   False           2   \n",
              "4       5       4                 1                  4    True           2   \n",
              "..    ...     ...               ...                ...     ...         ...   \n",
              "235   236      10                 2                  5   False           3   \n",
              "236   237      11                 1                  4    True           3   \n",
              "237   238      12                 2                  5    True           3   \n",
              "238   239      13                 5                  1   False           3   \n",
              "239   240      14                 1                  4    True           3   \n",
              "\n",
              "    patch_selected  key_resp.rt  rewards_captured  shock  \\\n",
              "0             left     0.669967                 0   -100   \n",
              "1            right     0.399401               100      0   \n",
              "2             left     0.437609               300      0   \n",
              "3            right     0.378309               200      0   \n",
              "4             left     0.460643                 0   -100   \n",
              "..             ...          ...               ...    ...   \n",
              "235           left     0.518962               200      0   \n",
              "236           left     0.682030               200   -100   \n",
              "237          right     0.236906               100      0   \n",
              "238          right     0.386927               300      0   \n",
              "239          right     0.421071               100   -100   \n",
              "\n",
              "     total_reward_captured  total_no_movements participant  constant_reward  \\\n",
              "0                     -100                  64     Harshit                0   \n",
              "1                        0                  73     Harshit                0   \n",
              "2                      300                  74     Harshit                0   \n",
              "3                      500                  73     Harshit                0   \n",
              "4                      400                  29     Harshit                0   \n",
              "..                     ...                 ...         ...              ...   \n",
              "235                   1900                  34      nitesh                1   \n",
              "236                   2000                  31      nitesh                1   \n",
              "237                   2100                  37      nitesh                1   \n",
              "238                   2400                  68      nitesh                1   \n",
              "239                   2400                  56      nitesh                1   \n",
              "\n",
              "     current_patch_comp str_threat  \n",
              "0                     5       True  \n",
              "1                     1      False  \n",
              "2                     2      False  \n",
              "3                     1      False  \n",
              "4                     1       True  \n",
              "..                  ...        ...  \n",
              "235                   2      False  \n",
              "236                   1       True  \n",
              "237                   5       True  \n",
              "238                   1      False  \n",
              "239                   4       True  \n",
              "\n",
              "[233 rows x 16 columns]"
            ],
            "text/html": [
              "\n",
              "  <div id=\"df-d315e4cc-77ff-43c9-8310-290c8f573cd8\">\n",
              "    <div class=\"colab-df-container\">\n",
              "      <div>\n",
              "<style scoped>\n",
              "    .dataframe tbody tr th:only-of-type {\n",
              "        vertical-align: middle;\n",
              "    }\n",
              "\n",
              "    .dataframe tbody tr th {\n",
              "        vertical-align: top;\n",
              "    }\n",
              "\n",
              "    .dataframe thead th {\n",
              "        text-align: right;\n",
              "    }\n",
              "</style>\n",
              "<table border=\"1\" class=\"dataframe\">\n",
              "  <thead>\n",
              "    <tr style=\"text-align: right;\">\n",
              "      <th></th>\n",
              "      <th>S.No</th>\n",
              "      <th>rep_no</th>\n",
              "      <th>left_competitors</th>\n",
              "      <th>right_competitors</th>\n",
              "      <th>threat</th>\n",
              "      <th>no_rewards</th>\n",
              "      <th>patch_selected</th>\n",
              "      <th>key_resp.rt</th>\n",
              "      <th>rewards_captured</th>\n",
              "      <th>shock</th>\n",
              "      <th>total_reward_captured</th>\n",
              "      <th>total_no_movements</th>\n",
              "      <th>participant</th>\n",
              "      <th>constant_reward</th>\n",
              "      <th>current_patch_comp</th>\n",
              "      <th>str_threat</th>\n",
              "    </tr>\n",
              "  </thead>\n",
              "  <tbody>\n",
              "    <tr>\n",
              "      <th>0</th>\n",
              "      <td>1</td>\n",
              "      <td>0</td>\n",
              "      <td>5</td>\n",
              "      <td>1</td>\n",
              "      <td>True</td>\n",
              "      <td>1</td>\n",
              "      <td>left</td>\n",
              "      <td>0.669967</td>\n",
              "      <td>0</td>\n",
              "      <td>-100</td>\n",
              "      <td>-100</td>\n",
              "      <td>64</td>\n",
              "      <td>Harshit</td>\n",
              "      <td>0</td>\n",
              "      <td>5</td>\n",
              "      <td>True</td>\n",
              "    </tr>\n",
              "    <tr>\n",
              "      <th>1</th>\n",
              "      <td>2</td>\n",
              "      <td>1</td>\n",
              "      <td>5</td>\n",
              "      <td>1</td>\n",
              "      <td>False</td>\n",
              "      <td>1</td>\n",
              "      <td>right</td>\n",
              "      <td>0.399401</td>\n",
              "      <td>100</td>\n",
              "      <td>0</td>\n",
              "      <td>0</td>\n",
              "      <td>73</td>\n",
              "      <td>Harshit</td>\n",
              "      <td>0</td>\n",
              "      <td>1</td>\n",
              "      <td>False</td>\n",
              "    </tr>\n",
              "    <tr>\n",
              "      <th>2</th>\n",
              "      <td>3</td>\n",
              "      <td>2</td>\n",
              "      <td>2</td>\n",
              "      <td>5</td>\n",
              "      <td>False</td>\n",
              "      <td>4</td>\n",
              "      <td>left</td>\n",
              "      <td>0.437609</td>\n",
              "      <td>300</td>\n",
              "      <td>0</td>\n",
              "      <td>300</td>\n",
              "      <td>74</td>\n",
              "      <td>Harshit</td>\n",
              "      <td>0</td>\n",
              "      <td>2</td>\n",
              "      <td>False</td>\n",
              "    </tr>\n",
              "    <tr>\n",
              "      <th>3</th>\n",
              "      <td>4</td>\n",
              "      <td>3</td>\n",
              "      <td>5</td>\n",
              "      <td>1</td>\n",
              "      <td>False</td>\n",
              "      <td>2</td>\n",
              "      <td>right</td>\n",
              "      <td>0.378309</td>\n",
              "      <td>200</td>\n",
              "      <td>0</td>\n",
              "      <td>500</td>\n",
              "      <td>73</td>\n",
              "      <td>Harshit</td>\n",
              "      <td>0</td>\n",
              "      <td>1</td>\n",
              "      <td>False</td>\n",
              "    </tr>\n",
              "    <tr>\n",
              "      <th>4</th>\n",
              "      <td>5</td>\n",
              "      <td>4</td>\n",
              "      <td>1</td>\n",
              "      <td>4</td>\n",
              "      <td>True</td>\n",
              "      <td>2</td>\n",
              "      <td>left</td>\n",
              "      <td>0.460643</td>\n",
              "      <td>0</td>\n",
              "      <td>-100</td>\n",
              "      <td>400</td>\n",
              "      <td>29</td>\n",
              "      <td>Harshit</td>\n",
              "      <td>0</td>\n",
              "      <td>1</td>\n",
              "      <td>True</td>\n",
              "    </tr>\n",
              "    <tr>\n",
              "      <th>...</th>\n",
              "      <td>...</td>\n",
              "      <td>...</td>\n",
              "      <td>...</td>\n",
              "      <td>...</td>\n",
              "      <td>...</td>\n",
              "      <td>...</td>\n",
              "      <td>...</td>\n",
              "      <td>...</td>\n",
              "      <td>...</td>\n",
              "      <td>...</td>\n",
              "      <td>...</td>\n",
              "      <td>...</td>\n",
              "      <td>...</td>\n",
              "      <td>...</td>\n",
              "      <td>...</td>\n",
              "      <td>...</td>\n",
              "    </tr>\n",
              "    <tr>\n",
              "      <th>235</th>\n",
              "      <td>236</td>\n",
              "      <td>10</td>\n",
              "      <td>2</td>\n",
              "      <td>5</td>\n",
              "      <td>False</td>\n",
              "      <td>3</td>\n",
              "      <td>left</td>\n",
              "      <td>0.518962</td>\n",
              "      <td>200</td>\n",
              "      <td>0</td>\n",
              "      <td>1900</td>\n",
              "      <td>34</td>\n",
              "      <td>nitesh</td>\n",
              "      <td>1</td>\n",
              "      <td>2</td>\n",
              "      <td>False</td>\n",
              "    </tr>\n",
              "    <tr>\n",
              "      <th>236</th>\n",
              "      <td>237</td>\n",
              "      <td>11</td>\n",
              "      <td>1</td>\n",
              "      <td>4</td>\n",
              "      <td>True</td>\n",
              "      <td>3</td>\n",
              "      <td>left</td>\n",
              "      <td>0.682030</td>\n",
              "      <td>200</td>\n",
              "      <td>-100</td>\n",
              "      <td>2000</td>\n",
              "      <td>31</td>\n",
              "      <td>nitesh</td>\n",
              "      <td>1</td>\n",
              "      <td>1</td>\n",
              "      <td>True</td>\n",
              "    </tr>\n",
              "    <tr>\n",
              "      <th>237</th>\n",
              "      <td>238</td>\n",
              "      <td>12</td>\n",
              "      <td>2</td>\n",
              "      <td>5</td>\n",
              "      <td>True</td>\n",
              "      <td>3</td>\n",
              "      <td>right</td>\n",
              "      <td>0.236906</td>\n",
              "      <td>100</td>\n",
              "      <td>0</td>\n",
              "      <td>2100</td>\n",
              "      <td>37</td>\n",
              "      <td>nitesh</td>\n",
              "      <td>1</td>\n",
              "      <td>5</td>\n",
              "      <td>True</td>\n",
              "    </tr>\n",
              "    <tr>\n",
              "      <th>238</th>\n",
              "      <td>239</td>\n",
              "      <td>13</td>\n",
              "      <td>5</td>\n",
              "      <td>1</td>\n",
              "      <td>False</td>\n",
              "      <td>3</td>\n",
              "      <td>right</td>\n",
              "      <td>0.386927</td>\n",
              "      <td>300</td>\n",
              "      <td>0</td>\n",
              "      <td>2400</td>\n",
              "      <td>68</td>\n",
              "      <td>nitesh</td>\n",
              "      <td>1</td>\n",
              "      <td>1</td>\n",
              "      <td>False</td>\n",
              "    </tr>\n",
              "    <tr>\n",
              "      <th>239</th>\n",
              "      <td>240</td>\n",
              "      <td>14</td>\n",
              "      <td>1</td>\n",
              "      <td>4</td>\n",
              "      <td>True</td>\n",
              "      <td>3</td>\n",
              "      <td>right</td>\n",
              "      <td>0.421071</td>\n",
              "      <td>100</td>\n",
              "      <td>-100</td>\n",
              "      <td>2400</td>\n",
              "      <td>56</td>\n",
              "      <td>nitesh</td>\n",
              "      <td>1</td>\n",
              "      <td>4</td>\n",
              "      <td>True</td>\n",
              "    </tr>\n",
              "  </tbody>\n",
              "</table>\n",
              "<p>233 rows × 16 columns</p>\n",
              "</div>\n",
              "      <button class=\"colab-df-convert\" onclick=\"convertToInteractive('df-d315e4cc-77ff-43c9-8310-290c8f573cd8')\"\n",
              "              title=\"Convert this dataframe to an interactive table.\"\n",
              "              style=\"display:none;\">\n",
              "        \n",
              "  <svg xmlns=\"http://www.w3.org/2000/svg\" height=\"24px\"viewBox=\"0 0 24 24\"\n",
              "       width=\"24px\">\n",
              "    <path d=\"M0 0h24v24H0V0z\" fill=\"none\"/>\n",
              "    <path d=\"M18.56 5.44l.94 2.06.94-2.06 2.06-.94-2.06-.94-.94-2.06-.94 2.06-2.06.94zm-11 1L8.5 8.5l.94-2.06 2.06-.94-2.06-.94L8.5 2.5l-.94 2.06-2.06.94zm10 10l.94 2.06.94-2.06 2.06-.94-2.06-.94-.94-2.06-.94 2.06-2.06.94z\"/><path d=\"M17.41 7.96l-1.37-1.37c-.4-.4-.92-.59-1.43-.59-.52 0-1.04.2-1.43.59L10.3 9.45l-7.72 7.72c-.78.78-.78 2.05 0 2.83L4 21.41c.39.39.9.59 1.41.59.51 0 1.02-.2 1.41-.59l7.78-7.78 2.81-2.81c.8-.78.8-2.07 0-2.86zM5.41 20L4 18.59l7.72-7.72 1.47 1.35L5.41 20z\"/>\n",
              "  </svg>\n",
              "      </button>\n",
              "      \n",
              "  <style>\n",
              "    .colab-df-container {\n",
              "      display:flex;\n",
              "      flex-wrap:wrap;\n",
              "      gap: 12px;\n",
              "    }\n",
              "\n",
              "    .colab-df-convert {\n",
              "      background-color: #E8F0FE;\n",
              "      border: none;\n",
              "      border-radius: 50%;\n",
              "      cursor: pointer;\n",
              "      display: none;\n",
              "      fill: #1967D2;\n",
              "      height: 32px;\n",
              "      padding: 0 0 0 0;\n",
              "      width: 32px;\n",
              "    }\n",
              "\n",
              "    .colab-df-convert:hover {\n",
              "      background-color: #E2EBFA;\n",
              "      box-shadow: 0px 1px 2px rgba(60, 64, 67, 0.3), 0px 1px 3px 1px rgba(60, 64, 67, 0.15);\n",
              "      fill: #174EA6;\n",
              "    }\n",
              "\n",
              "    [theme=dark] .colab-df-convert {\n",
              "      background-color: #3B4455;\n",
              "      fill: #D2E3FC;\n",
              "    }\n",
              "\n",
              "    [theme=dark] .colab-df-convert:hover {\n",
              "      background-color: #434B5C;\n",
              "      box-shadow: 0px 1px 3px 1px rgba(0, 0, 0, 0.15);\n",
              "      filter: drop-shadow(0px 1px 2px rgba(0, 0, 0, 0.3));\n",
              "      fill: #FFFFFF;\n",
              "    }\n",
              "  </style>\n",
              "\n",
              "      <script>\n",
              "        const buttonEl =\n",
              "          document.querySelector('#df-d315e4cc-77ff-43c9-8310-290c8f573cd8 button.colab-df-convert');\n",
              "        buttonEl.style.display =\n",
              "          google.colab.kernel.accessAllowed ? 'block' : 'none';\n",
              "\n",
              "        async function convertToInteractive(key) {\n",
              "          const element = document.querySelector('#df-d315e4cc-77ff-43c9-8310-290c8f573cd8');\n",
              "          const dataTable =\n",
              "            await google.colab.kernel.invokeFunction('convertToInteractive',\n",
              "                                                     [key], {});\n",
              "          if (!dataTable) return;\n",
              "\n",
              "          const docLinkHtml = 'Like what you see? Visit the ' +\n",
              "            '<a target=\"_blank\" href=https://colab.research.google.com/notebooks/data_table.ipynb>data table notebook</a>'\n",
              "            + ' to learn more about interactive tables.';\n",
              "          element.innerHTML = '';\n",
              "          dataTable['output_type'] = 'display_data';\n",
              "          await google.colab.output.renderOutput(dataTable, element);\n",
              "          const docLink = document.createElement('div');\n",
              "          docLink.innerHTML = docLinkHtml;\n",
              "          element.appendChild(docLink);\n",
              "        }\n",
              "      </script>\n",
              "    </div>\n",
              "  </div>\n",
              "  "
            ]
          },
          "metadata": {},
          "execution_count": 4
        }
      ]
    },
    {
      "cell_type": "code",
      "source": [
        "constant_reward_df = test_df[test_df['constant_reward']==1]\n",
        "variable_reward_df = test_df[test_df['constant_reward']==0]"
      ],
      "metadata": {
        "id": "FT8XGH33vaPm"
      },
      "execution_count": 5,
      "outputs": []
    },
    {
      "cell_type": "code",
      "source": [
        "groupby_current_comp = constant_reward_df[constant_reward_df['threat']==1].groupby(['current_patch_comp']).mean()\n",
        "r_threat,p_threat= pearsonr(groupby_current_comp.index.tolist(),groupby_current_comp['rewards_captured'].tolist())\n",
        "\n",
        "groupby_current_comp = constant_reward_df[constant_reward_df['threat']==0].groupby(['current_patch_comp']).mean()\n",
        "r_safe,p_safe= pearsonr(groupby_current_comp.index.tolist(),groupby_current_comp['rewards_captured'].tolist())\n",
        "\n",
        "sctr = sns.catplot('current_patch_comp', 'rewards_captured', hue='threat', data=constant_reward_df, kind='point').set(title = \"Constant Rewads\" , ylabel = \"Rewards Captured\", xlabel = \"Number of Compertitors in Selected Patch\")\n",
        "sctr._legend.texts[0].set_text(sctr._legend.texts[0].get_text() + \"\\n r  {:.2E} \\n p  {:.2E}\".format(r_threat,p_threat))\n",
        "sctr._legend.texts[1].set_text(sctr._legend.texts[1].get_text() + \"\\n r  {:.2E} \\n p  {:.2E}\".format(r_safe,p_safe))\n",
        "sns.move_legend(sctr, \"upper right\", title='Threat')"
      ],
      "metadata": {
        "id": "uJJ5roJ1UisT",
        "colab": {
          "base_uri": "https://localhost:8080/",
          "height": 438
        },
        "outputId": "aac3684a-9d83-4b19-9620-5e3420316707"
      },
      "execution_count": 6,
      "outputs": [
        {
          "output_type": "stream",
          "name": "stderr",
          "text": [
            "/usr/local/lib/python3.7/dist-packages/seaborn/_decorators.py:43: FutureWarning: Pass the following variables as keyword args: x, y. From version 0.12, the only valid positional argument will be `data`, and passing other arguments without an explicit keyword will result in an error or misinterpretation.\n",
            "  FutureWarning\n"
          ]
        },
        {
          "output_type": "display_data",
          "data": {
            "text/plain": [
              "<Figure size 421.25x360 with 1 Axes>"
            ],
            "image/png": "[encoded data removed]"
          },
          "metadata": {
            "needs_background": "light"
          }
        }
      ]
    },
    {
      "cell_type": "code",
      "source": [
        "groupby_current_comp = variable_reward_df[variable_reward_df['threat']==1].groupby(['current_patch_comp']).mean()\n",
        "r_threat,p_threat= pearsonr(groupby_current_comp.index.tolist(),groupby_current_comp['rewards_captured'].tolist())\n",
        "\n",
        "groupby_current_comp = variable_reward_df[variable_reward_df['threat']==0].groupby(['current_patch_comp']).mean()\n",
        "r_safe,p_safe= pearsonr(groupby_current_comp.index.tolist(),groupby_current_comp['rewards_captured'].tolist())\n",
        "\n",
        "sctr = sns.catplot('current_patch_comp', 'rewards_captured', hue='threat', data=variable_reward_df , kind='point').set(title = \"Variable Rewads\")\n",
        "sctr._legend.texts[0].set_text(sctr._legend.texts[0].get_text() + \"\\n r  {:.2E} \\n p  {:.2E}\".format(r_threat,p_threat))\n",
        "sctr._legend.texts[1].set_text(sctr._legend.texts[1].get_text() + \"\\n r  {:.2E} \\n p  {:.2E}\".format(r_safe,p_safe))\n",
        "sns.move_legend(sctr, \"upper right\", title='Threat')"
      ],
      "metadata": {
        "id": "N6Q5OOA1v5SE",
        "colab": {
          "base_uri": "https://localhost:8080/",
          "height": 439
        },
        "outputId": "304a75d4-ccc4-4c47-c483-1431ced9086b"
      },
      "execution_count": 7,
      "outputs": [
        {
          "output_type": "stream",
          "name": "stderr",
          "text": [
            "/usr/local/lib/python3.7/dist-packages/seaborn/_decorators.py:43: FutureWarning: Pass the following variables as keyword args: x, y. From version 0.12, the only valid positional argument will be `data`, and passing other arguments without an explicit keyword will result in an error or misinterpretation.\n",
            "  FutureWarning\n"
          ]
        },
        {
          "output_type": "display_data",
          "data": {
            "text/plain": [
              "<Figure size 421.25x360 with 1 Axes>"
            ],
            "image/png": "[encoded data removed]"
          },
          "metadata": {
            "needs_background": "light"
          }
        }
      ]
    },
    {
      "cell_type": "code",
      "source": [
        "test_df['total_reward_in_session'] = test_df['total_reward_captured']\n",
        "for i, row in test_df.iterrows():\n",
        "        ref  = ((i//5)*5)+4\n",
        "        # print(ref)\n",
        "        ref = test_df.loc[ref]['total_reward_captured']\n",
        "        test_df.at[i, 'total_reward_in_session'] = ref\n"
      ],
      "metadata": {
        "id": "NPMG64fUXM_Z"
      },
      "execution_count": 8,
      "outputs": []
    },
    {
      "cell_type": "code",
      "source": [
        "test_df['ppv'] = test_df['rewards_captured'] - 50/test_df['current_patch_comp']\n",
        "\n",
        "ppv_mean = test_df['ppv'].mean()\n",
        "test_df['ppv']= (test_df['ppv']-ppv_mean)/(test_df['ppv'].max()-test_df['ppv'].min())\n",
        "test_df['ppv'] = test_df['ppv'] +abs( test_df['ppv'].min())\n",
        "test_df['ppv']= (test_df['ppv'])/(test_df['ppv'].max()-test_df['ppv'].min())\n",
        "test_df"
      ],
      "metadata": {
        "id": "GFZ7Kz0UXNBr",
        "colab": {
          "base_uri": "https://localhost:8080/",
          "height": 483
        },
        "outputId": "5baa1c65-c198-44c3-f36d-23606b0bc703"
      },
      "execution_count": 9,
      "outputs": [
        {
          "output_type": "execute_result",
          "data": {
            "text/plain": [
              "     S.No  rep_no  left_competitors  right_competitors  threat  no_rewards  \\\n",
              "0       1       0                 5                  1    True           1   \n",
              "1       2       1                 5                  1   False           1   \n",
              "2       3       2                 2                  5   False           4   \n",
              "3       4       3                 5                  1   False           2   \n",
              "4       5       4                 1                  4    True           2   \n",
              "..    ...     ...               ...                ...     ...         ...   \n",
              "235   236      10                 2                  5   False           3   \n",
              "236   237      11                 1                  4    True           3   \n",
              "237   238      12                 2                  5    True           3   \n",
              "238   239      13                 5                  1   False           3   \n",
              "239   240      14                 1                  4    True           3   \n",
              "\n",
              "    patch_selected  key_resp.rt  rewards_captured  shock  \\\n",
              "0             left     0.669967                 0   -100   \n",
              "1            right     0.399401               100      0   \n",
              "2             left     0.437609               300      0   \n",
              "3            right     0.378309               200      0   \n",
              "4             left     0.460643                 0   -100   \n",
              "..             ...          ...               ...    ...   \n",
              "235           left     0.518962               200      0   \n",
              "236           left     0.682030               200   -100   \n",
              "237          right     0.236906               100      0   \n",
              "238          right     0.386927               300      0   \n",
              "239          right     0.421071               100   -100   \n",
              "\n",
              "     total_reward_captured  total_no_movements participant  constant_reward  \\\n",
              "0                     -100                  64     Harshit                0   \n",
              "1                        0                  73     Harshit                0   \n",
              "2                      300                  74     Harshit                0   \n",
              "3                      500                  73     Harshit                0   \n",
              "4                      400                  29     Harshit                0   \n",
              "..                     ...                 ...         ...              ...   \n",
              "235                   1900                  34      nitesh                1   \n",
              "236                   2000                  31      nitesh                1   \n",
              "237                   2100                  37      nitesh                1   \n",
              "238                   2400                  68      nitesh                1   \n",
              "239                   2400                  56      nitesh                1   \n",
              "\n",
              "     current_patch_comp str_threat  total_reward_in_session      ppv  \n",
              "0                     5       True                      400  0.10000  \n",
              "1                     1      False                      400  0.25000  \n",
              "2                     2      False                      400  0.81250  \n",
              "3                     1      False                      400  0.50000  \n",
              "4                     1       True                      400  0.00000  \n",
              "..                  ...        ...                      ...      ...  \n",
              "235                   2      False                     2400  0.56250  \n",
              "236                   1       True                     2400  0.50000  \n",
              "237                   5       True                     2400  0.35000  \n",
              "238                   1      False                     2400  0.75000  \n",
              "239                   4       True                     2400  0.34375  \n",
              "\n",
              "[233 rows x 18 columns]"
            ],
            "text/html": [
              "\n",
              "  <div id=\"df-858d57bd-e6b6-4efb-acfe-f465624f220f\">\n",
              "    <div class=\"colab-df-container\">\n",
              "      <div>\n",
              "<style scoped>\n",
              "    .dataframe tbody tr th:only-of-type {\n",
              "        vertical-align: middle;\n",
              "    }\n",
              "\n",
              "    .dataframe tbody tr th {\n",
              "        vertical-align: top;\n",
              "    }\n",
              "\n",
              "    .dataframe thead th {\n",
              "        text-align: right;\n",
              "    }\n",
              "</style>\n",
              "<table border=\"1\" class=\"dataframe\">\n",
              "  <thead>\n",
              "    <tr style=\"text-align: right;\">\n",
              "      <th></th>\n",
              "      <th>S.No</th>\n",
              "      <th>rep_no</th>\n",
              "      <th>left_competitors</th>\n",
              "      <th>right_competitors</th>\n",
              "      <th>threat</th>\n",
              "      <th>no_rewards</th>\n",
              "      <th>patch_selected</th>\n",
              "      <th>key_resp.rt</th>\n",
              "      <th>rewards_captured</th>\n",
              "      <th>shock</th>\n",
              "      <th>total_reward_captured</th>\n",
              "      <th>total_no_movements</th>\n",
              "      <th>participant</th>\n",
              "      <th>constant_reward</th>\n",
              "      <th>current_patch_comp</th>\n",
              "      <th>str_threat</th>\n",
              "      <th>total_reward_in_session</th>\n",
              "      <th>ppv</th>\n",
              "    </tr>\n",
              "  </thead>\n",
              "  <tbody>\n",
              "    <tr>\n",
              "      <th>0</th>\n",
              "      <td>1</td>\n",
              "      <td>0</td>\n",
              "      <td>5</td>\n",
              "      <td>1</td>\n",
              "      <td>True</td>\n",
              "      <td>1</td>\n",
              "      <td>left</td>\n",
              "      <td>0.669967</td>\n",
              "      <td>0</td>\n",
              "      <td>-100</td>\n",
              "      <td>-100</td>\n",
              "      <td>64</td>\n",
              "      <td>Harshit</td>\n",
              "      <td>0</td>\n",
              "      <td>5</td>\n",
              "      <td>True</td>\n",
              "      <td>400</td>\n",
              "      <td>0.10000</td>\n",
              "    </tr>\n",
              "    <tr>\n",
              "      <th>1</th>\n",
              "      <td>2</td>\n",
              "      <td>1</td>\n",
              "      <td>5</td>\n",
              "      <td>1</td>\n",
              "      <td>False</td>\n",
              "      <td>1</td>\n",
              "      <td>right</td>\n",
              "      <td>0.399401</td>\n",
              "      <td>100</td>\n",
              "      <td>0</td>\n",
              "      <td>0</td>\n",
              "      <td>73</td>\n",
              "      <td>Harshit</td>\n",
              "      <td>0</td>\n",
              "      <td>1</td>\n",
              "      <td>False</td>\n",
              "      <td>400</td>\n",
              "      <td>0.25000</td>\n",
              "    </tr>\n",
              "    <tr>\n",
              "      <th>2</th>\n",
              "      <td>3</td>\n",
              "      <td>2</td>\n",
              "      <td>2</td>\n",
              "      <td>5</td>\n",
              "      <td>False</td>\n",
              "      <td>4</td>\n",
              "      <td>left</td>\n",
              "      <td>0.437609</td>\n",
              "      <td>300</td>\n",
              "      <td>0</td>\n",
              "      <td>300</td>\n",
              "      <td>74</td>\n",
              "      <td>Harshit</td>\n",
              "      <td>0</td>\n",
              "      <td>2</td>\n",
              "      <td>False</td>\n",
              "      <td>400</td>\n",
              "      <td>0.81250</td>\n",
              "    </tr>\n",
              "    <tr>\n",
              "      <th>3</th>\n",
              "      <td>4</td>\n",
              "      <td>3</td>\n",
              "      <td>5</td>\n",
              "      <td>1</td>\n",
              "      <td>False</td>\n",
              "      <td>2</td>\n",
              "      <td>right</td>\n",
              "      <td>0.378309</td>\n",
              "      <td>200</td>\n",
              "      <td>0</td>\n",
              "      <td>500</td>\n",
              "      <td>73</td>\n",
              "      <td>Harshit</td>\n",
              "      <td>0</td>\n",
              "      <td>1</td>\n",
              "      <td>False</td>\n",
              "      <td>400</td>\n",
              "      <td>0.50000</td>\n",
              "    </tr>\n",
              "    <tr>\n",
              "      <th>4</th>\n",
              "      <td>5</td>\n",
              "      <td>4</td>\n",
              "      <td>1</td>\n",
              "      <td>4</td>\n",
              "      <td>True</td>\n",
              "      <td>2</td>\n",
              "      <td>left</td>\n",
              "      <td>0.460643</td>\n",
              "      <td>0</td>\n",
              "      <td>-100</td>\n",
              "      <td>400</td>\n",
              "      <td>29</td>\n",
              "      <td>Harshit</td>\n",
              "      <td>0</td>\n",
              "      <td>1</td>\n",
              "      <td>True</td>\n",
              "      <td>400</td>\n",
              "      <td>0.00000</td>\n",
              "    </tr>\n",
              "    <tr>\n",
              "      <th>...</th>\n",
              "      <td>...</td>\n",
              "      <td>...</td>\n",
              "      <td>...</td>\n",
              "      <td>...</td>\n",
              "      <td>...</td>\n",
              "      <td>...</td>\n",
              "      <td>...</td>\n",
              "      <td>...</td>\n",
              "      <td>...</td>\n",
              "      <td>...</td>\n",
              "      <td>...</td>\n",
              "      <td>...</td>\n",
              "      <td>...</td>\n",
              "      <td>...</td>\n",
              "      <td>...</td>\n",
              "      <td>...</td>\n",
              "      <td>...</td>\n",
              "      <td>...</td>\n",
              "    </tr>\n",
              "    <tr>\n",
              "      <th>235</th>\n",
              "      <td>236</td>\n",
              "      <td>10</td>\n",
              "      <td>2</td>\n",
              "      <td>5</td>\n",
              "      <td>False</td>\n",
              "      <td>3</td>\n",
              "      <td>left</td>\n",
              "      <td>0.518962</td>\n",
              "      <td>200</td>\n",
              "      <td>0</td>\n",
              "      <td>1900</td>\n",
              "      <td>34</td>\n",
              "      <td>nitesh</td>\n",
              "      <td>1</td>\n",
              "      <td>2</td>\n",
              "      <td>False</td>\n",
              "      <td>2400</td>\n",
              "      <td>0.56250</td>\n",
              "    </tr>\n",
              "    <tr>\n",
              "      <th>236</th>\n",
              "      <td>237</td>\n",
              "      <td>11</td>\n",
              "      <td>1</td>\n",
              "      <td>4</td>\n",
              "      <td>True</td>\n",
              "      <td>3</td>\n",
              "      <td>left</td>\n",
              "      <td>0.682030</td>\n",
              "      <td>200</td>\n",
              "      <td>-100</td>\n",
              "      <td>2000</td>\n",
              "      <td>31</td>\n",
              "      <td>nitesh</td>\n",
              "      <td>1</td>\n",
              "      <td>1</td>\n",
              "      <td>True</td>\n",
              "      <td>2400</td>\n",
              "      <td>0.50000</td>\n",
              "    </tr>\n",
              "    <tr>\n",
              "      <th>237</th>\n",
              "      <td>238</td>\n",
              "      <td>12</td>\n",
              "      <td>2</td>\n",
              "      <td>5</td>\n",
              "      <td>True</td>\n",
              "      <td>3</td>\n",
              "      <td>right</td>\n",
              "      <td>0.236906</td>\n",
              "      <td>100</td>\n",
              "      <td>0</td>\n",
              "      <td>2100</td>\n",
              "      <td>37</td>\n",
              "      <td>nitesh</td>\n",
              "      <td>1</td>\n",
              "      <td>5</td>\n",
              "      <td>True</td>\n",
              "      <td>2400</td>\n",
              "      <td>0.35000</td>\n",
              "    </tr>\n",
              "    <tr>\n",
              "      <th>238</th>\n",
              "      <td>239</td>\n",
              "      <td>13</td>\n",
              "      <td>5</td>\n",
              "      <td>1</td>\n",
              "      <td>False</td>\n",
              "      <td>3</td>\n",
              "      <td>right</td>\n",
              "      <td>0.386927</td>\n",
              "      <td>300</td>\n",
              "      <td>0</td>\n",
              "      <td>2400</td>\n",
              "      <td>68</td>\n",
              "      <td>nitesh</td>\n",
              "      <td>1</td>\n",
              "      <td>1</td>\n",
              "      <td>False</td>\n",
              "      <td>2400</td>\n",
              "      <td>0.75000</td>\n",
              "    </tr>\n",
              "    <tr>\n",
              "      <th>239</th>\n",
              "      <td>240</td>\n",
              "      <td>14</td>\n",
              "      <td>1</td>\n",
              "      <td>4</td>\n",
              "      <td>True</td>\n",
              "      <td>3</td>\n",
              "      <td>right</td>\n",
              "      <td>0.421071</td>\n",
              "      <td>100</td>\n",
              "      <td>-100</td>\n",
              "      <td>2400</td>\n",
              "      <td>56</td>\n",
              "      <td>nitesh</td>\n",
              "      <td>1</td>\n",
              "      <td>4</td>\n",
              "      <td>True</td>\n",
              "      <td>2400</td>\n",
              "      <td>0.34375</td>\n",
              "    </tr>\n",
              "  </tbody>\n",
              "</table>\n",
              "<p>233 rows × 18 columns</p>\n",
              "</div>\n",
              "      <button class=\"colab-df-convert\" onclick=\"convertToInteractive('df-858d57bd-e6b6-4efb-acfe-f465624f220f')\"\n",
              "              title=\"Convert this dataframe to an interactive table.\"\n",
              "              style=\"display:none;\">\n",
              "        \n",
              "  <svg xmlns=\"http://www.w3.org/2000/svg\" height=\"24px\"viewBox=\"0 0 24 24\"\n",
              "       width=\"24px\">\n",
              "    <path d=\"M0 0h24v24H0V0z\" fill=\"none\"/>\n",
              "    <path d=\"M18.56 5.44l.94 2.06.94-2.06 2.06-.94-2.06-.94-.94-2.06-.94 2.06-2.06.94zm-11 1L8.5 8.5l.94-2.06 2.06-.94-2.06-.94L8.5 2.5l-.94 2.06-2.06.94zm10 10l.94 2.06.94-2.06 2.06-.94-2.06-.94-.94-2.06-.94 2.06-2.06.94z\"/><path d=\"M17.41 7.96l-1.37-1.37c-.4-.4-.92-.59-1.43-.59-.52 0-1.04.2-1.43.59L10.3 9.45l-7.72 7.72c-.78.78-.78 2.05 0 2.83L4 21.41c.39.39.9.59 1.41.59.51 0 1.02-.2 1.41-.59l7.78-7.78 2.81-2.81c.8-.78.8-2.07 0-2.86zM5.41 20L4 18.59l7.72-7.72 1.47 1.35L5.41 20z\"/>\n",
              "  </svg>\n",
              "      </button>\n",
              "      \n",
              "  <style>\n",
              "    .colab-df-container {\n",
              "      display:flex;\n",
              "      flex-wrap:wrap;\n",
              "      gap: 12px;\n",
              "    }\n",
              "\n",
              "    .colab-df-convert {\n",
              "      background-color: #E8F0FE;\n",
              "      border: none;\n",
              "      border-radius: 50%;\n",
              "      cursor: pointer;\n",
              "      display: none;\n",
              "      fill: #1967D2;\n",
              "      height: 32px;\n",
              "      padding: 0 0 0 0;\n",
              "      width: 32px;\n",
              "    }\n",
              "\n",
              "    .colab-df-convert:hover {\n",
              "      background-color: #E2EBFA;\n",
              "      box-shadow: 0px 1px 2px rgba(60, 64, 67, 0.3), 0px 1px 3px 1px rgba(60, 64, 67, 0.15);\n",
              "      fill: #174EA6;\n",
              "    }\n",
              "\n",
              "    [theme=dark] .colab-df-convert {\n",
              "      background-color: #3B4455;\n",
              "      fill: #D2E3FC;\n",
              "    }\n",
              "\n",
              "    [theme=dark] .colab-df-convert:hover {\n",
              "      background-color: #434B5C;\n",
              "      box-shadow: 0px 1px 3px 1px rgba(0, 0, 0, 0.15);\n",
              "      filter: drop-shadow(0px 1px 2px rgba(0, 0, 0, 0.3));\n",
              "      fill: #FFFFFF;\n",
              "    }\n",
              "  </style>\n",
              "\n",
              "      <script>\n",
              "        const buttonEl =\n",
              "          document.querySelector('#df-858d57bd-e6b6-4efb-acfe-f465624f220f button.colab-df-convert');\n",
              "        buttonEl.style.display =\n",
              "          google.colab.kernel.accessAllowed ? 'block' : 'none';\n",
              "\n",
              "        async function convertToInteractive(key) {\n",
              "          const element = document.querySelector('#df-858d57bd-e6b6-4efb-acfe-f465624f220f');\n",
              "          const dataTable =\n",
              "            await google.colab.kernel.invokeFunction('convertToInteractive',\n",
              "                                                     [key], {});\n",
              "          if (!dataTable) return;\n",
              "\n",
              "          const docLinkHtml = 'Like what you see? Visit the ' +\n",
              "            '<a target=\"_blank\" href=https://colab.research.google.com/notebooks/data_table.ipynb>data table notebook</a>'\n",
              "            + ' to learn more about interactive tables.';\n",
              "          element.innerHTML = '';\n",
              "          dataTable['output_type'] = 'display_data';\n",
              "          await google.colab.output.renderOutput(dataTable, element);\n",
              "          const docLink = document.createElement('div');\n",
              "          docLink.innerHTML = docLinkHtml;\n",
              "          element.appendChild(docLink);\n",
              "        }\n",
              "      </script>\n",
              "    </div>\n",
              "  </div>\n",
              "  "
            ]
          },
          "metadata": {},
          "execution_count": 9
        }
      ]
    },
    {
      "cell_type": "code",
      "source": [
        "# sns.relplot('current_patch_comp', 'ppv', hue='no_rewards', data=variable_reward_df, kind=\"line\", style=\"threat\", ci=None)"
      ],
      "metadata": {
        "id": "qwN-7C8jgH6p"
      },
      "execution_count": 10,
      "outputs": []
    },
    {
      "cell_type": "code",
      "source": [
        "constant_reward_df = test_df[test_df['constant_reward']==1]\n",
        "variable_reward_df = test_df[test_df['constant_reward']==0]"
      ],
      "metadata": {
        "id": "BkWnAsKCxg4z"
      },
      "execution_count": 11,
      "outputs": []
    },
    {
      "cell_type": "code",
      "source": [
        "df_reward1 = variable_reward_df[variable_reward_df['no_rewards']==1]\n",
        "\n",
        "sns.relplot('current_patch_comp', 'ppv', data=df_reward1, kind=\"line\", style=\"threat\", ci=None).set(title='Number of Reward = 1' , ylabel = \"PPV\", xlabel = \"Number of Compertitors in Selected Patch\")\n"
      ],
      "metadata": {
        "id": "lZI0Y-3EgIJP",
        "colab": {
          "base_uri": "https://localhost:8080/",
          "height": 456
        },
        "outputId": "0f07b4d3-2c66-4c12-9f26-07e05ce8911c"
      },
      "execution_count": 12,
      "outputs": [
        {
          "output_type": "stream",
          "name": "stderr",
          "text": [
            "/usr/local/lib/python3.7/dist-packages/seaborn/_decorators.py:43: FutureWarning: Pass the following variables as keyword args: x, y. From version 0.12, the only valid positional argument will be `data`, and passing other arguments without an explicit keyword will result in an error or misinterpretation.\n",
            "  FutureWarning\n"
          ]
        },
        {
          "output_type": "execute_result",
          "data": {
            "text/plain": [
              "<seaborn.axisgrid.FacetGrid at 0x7f8ed97c3250>"
            ]
          },
          "metadata": {},
          "execution_count": 12
        },
        {
          "output_type": "display_data",
          "data": {
            "text/plain": [
              "<Figure size 421.25x360 with 1 Axes>"
            ],
            "image/png": "[encoded data removed]"
          },
          "metadata": {
            "needs_background": "light"
          }
        }
      ]
    },
    {
      "cell_type": "code",
      "source": [
        "df_reward2 = variable_reward_df[variable_reward_df['no_rewards']==2]\n",
        "\n",
        "sns.relplot('current_patch_comp', 'ppv', data=df_reward2, kind=\"line\", style=\"threat\", ci=None).set(title='Number of Reward = 2' , ylabel = \"PPV\", xlabel = \"Number of Compertitors in Selected Patch\")\n"
      ],
      "metadata": {
        "id": "fM8lLL47oUvt",
        "colab": {
          "base_uri": "https://localhost:8080/",
          "height": 456
        },
        "outputId": "51cca085-19e0-4d3b-a68b-ae212bce3071"
      },
      "execution_count": 13,
      "outputs": [
        {
          "output_type": "stream",
          "name": "stderr",
          "text": [
            "/usr/local/lib/python3.7/dist-packages/seaborn/_decorators.py:43: FutureWarning: Pass the following variables as keyword args: x, y. From version 0.12, the only valid positional argument will be `data`, and passing other arguments without an explicit keyword will result in an error or misinterpretation.\n",
            "  FutureWarning\n"
          ]
        },
        {
          "output_type": "execute_result",
          "data": {
            "text/plain": [
              "<seaborn.axisgrid.FacetGrid at 0x7f8ed97399d0>"
            ]
          },
          "metadata": {},
          "execution_count": 13
        },
        {
          "output_type": "display_data",
          "data": {
            "text/plain": [
              "<Figure size 421.25x360 with 1 Axes>"
            ],
            "image/png": "[encoded data removed]"
          },
          "metadata": {
            "needs_background": "light"
          }
        }
      ]
    },
    {
      "cell_type": "code",
      "source": [
        "df_reward3 = variable_reward_df[variable_reward_df['no_rewards']==3]\n",
        "groupby_current_comp = df_reward3[df_reward3['threat']==True].groupby(['current_patch_comp']).mean()\n",
        "r_threat,p_threat= pearsonr(groupby_current_comp.index.tolist(),groupby_current_comp['ppv'].tolist())\n",
        "\n",
        "groupby_current_comp = df_reward3[df_reward3['threat']==False].groupby(['current_patch_comp']).mean()\n",
        "r_safe,p_safe= pearsonr(groupby_current_comp.index.tolist(),groupby_current_comp['ppv'].tolist())\n",
        "sns.relplot('current_patch_comp', 'ppv', data=df_reward3, kind=\"line\", style=\"threat\", ci=None).set(title='Number of Reward = 3', ylabel = \"PPV\", xlabel = \"Number of Compertitors in Selected Patch\")\n"
      ],
      "metadata": {
        "id": "WU3MB2BaoUyn",
        "colab": {
          "base_uri": "https://localhost:8080/",
          "height": 456
        },
        "outputId": "71023f20-28ac-43b0-eb83-623439a3e508"
      },
      "execution_count": 14,
      "outputs": [
        {
          "output_type": "stream",
          "name": "stderr",
          "text": [
            "/usr/local/lib/python3.7/dist-packages/seaborn/_decorators.py:43: FutureWarning: Pass the following variables as keyword args: x, y. From version 0.12, the only valid positional argument will be `data`, and passing other arguments without an explicit keyword will result in an error or misinterpretation.\n",
            "  FutureWarning\n"
          ]
        },
        {
          "output_type": "execute_result",
          "data": {
            "text/plain": [
              "<seaborn.axisgrid.FacetGrid at 0x7f8ed9685f50>"
            ]
          },
          "metadata": {},
          "execution_count": 14
        },
        {
          "output_type": "display_data",
          "data": {
            "text/plain": [
              "<Figure size 421.25x360 with 1 Axes>"
            ],
            "image/png": "[encoded data removed]"
          },
          "metadata": {
            "needs_background": "light"
          }
        }
      ]
    },
    {
      "cell_type": "code",
      "source": [
        "df_reward4 = variable_reward_df[variable_reward_df['no_rewards']==4]\n",
        "sns.relplot('current_patch_comp', 'ppv', data=df_reward4, kind=\"line\", style=\"threat\", ci=None).set(title='Number of Reward = 4' , ylabel = \"PPV\", xlabel = \"Number of Compertitors in Selected Patch\")"
      ],
      "metadata": {
        "id": "p0nucHdJoU1M",
        "colab": {
          "base_uri": "https://localhost:8080/",
          "height": 456
        },
        "outputId": "56b4b32c-0d56-4103-8eb2-13a7202ecdce"
      },
      "execution_count": 15,
      "outputs": [
        {
          "output_type": "stream",
          "name": "stderr",
          "text": [
            "/usr/local/lib/python3.7/dist-packages/seaborn/_decorators.py:43: FutureWarning: Pass the following variables as keyword args: x, y. From version 0.12, the only valid positional argument will be `data`, and passing other arguments without an explicit keyword will result in an error or misinterpretation.\n",
            "  FutureWarning\n"
          ]
        },
        {
          "output_type": "execute_result",
          "data": {
            "text/plain": [
              "<seaborn.axisgrid.FacetGrid at 0x7f8ed962a490>"
            ]
          },
          "metadata": {},
          "execution_count": 15
        },
        {
          "output_type": "display_data",
          "data": {
            "text/plain": [
              "<Figure size 421.25x360 with 1 Axes>"
            ],
            "image/png": "[encoded data removed]"
          },
          "metadata": {
            "needs_background": "light"
          }
        }
      ]
    },
    {
      "cell_type": "code",
      "source": [
        "sc_plt = sns.relplot('current_patch_comp', 'ppv', data=constant_reward_df, kind=\"line\", style=\"threat\", ci=None).set(title='Constant Reward', ylabel = 'PPV', xlabel = 'Number of Compertitors in Selected Patch')\n",
        "groupby_current_comp = constant_reward_df[constant_reward_df['threat']==False].groupby(['current_patch_comp']).mean()\n",
        "r_safe,p_safe= pearsonr(groupby_current_comp.index.tolist(),groupby_current_comp['ppv'].tolist())\n",
        "p_safe\n",
        "sc_plt._legend.texts[0].set_text(sc_plt._legend.texts[0].get_text() + \" \\n p: {:.2E}\".format(p_safe))\n",
        "sns.move_legend(sc_plt, \"upper right\", title='Threat')"
      ],
      "metadata": {
        "colab": {
          "base_uri": "https://localhost:8080/",
          "height": 439
        },
        "id": "uXvfWzVszbpy",
        "outputId": "3577aaac-23be-400d-ea25-4cb0d0ab52a3"
      },
      "execution_count": 16,
      "outputs": [
        {
          "output_type": "stream",
          "name": "stderr",
          "text": [
            "/usr/local/lib/python3.7/dist-packages/seaborn/_decorators.py:43: FutureWarning: Pass the following variables as keyword args: x, y. From version 0.12, the only valid positional argument will be `data`, and passing other arguments without an explicit keyword will result in an error or misinterpretation.\n",
            "  FutureWarning\n"
          ]
        },
        {
          "output_type": "display_data",
          "data": {
            "text/plain": [
              "<Figure size 421.25x360 with 1 Axes>"
            ],
            "image/png": "[encoded data removed]"
          },
          "metadata": {
            "needs_background": "light"
          }
        }
      ]
    },
    {
      "cell_type": "code",
      "source": [
        "# df_reward5 = test_df[test_df['no_rewards']==5]\n",
        "# sns.relplot('current_patch_comp', 'ppv', data=df_reward5, kind=\"line\", style=\"threat\", ci=None).set(title='Number of Reward = 5')"
      ],
      "metadata": {
        "id": "_gE0Qyx7oU3_"
      },
      "execution_count": 17,
      "outputs": []
    },
    {
      "cell_type": "code",
      "source": [
        "safe_df =  test_df[test_df['threat'] == 0]\n",
        "threat_df = test_df[test_df['threat'] == 1]"
      ],
      "metadata": {
        "id": "bPyGQShROpvf"
      },
      "execution_count": 18,
      "outputs": []
    },
    {
      "cell_type": "code",
      "source": [
        "threat_df_constant_reward = constant_reward_df[constant_reward_df['threat'] == 1]\n",
        "safe_df_constant_reward = constant_reward_df[constant_reward_df['threat'] == 0]\n",
        "threat_competetive_count =0 ; \n",
        "safe_competetive_count= 0 ;\n",
        "threat_less_comp_count= 0 ; \n",
        "safe_less_comp_count= 0 ; \n",
        "for i, row in threat_df_constant_reward.iterrows(): \n",
        "  sel_patch = row['patch_selected'];\n",
        "  left_comp = row['left_competitors'];\n",
        "  right_comp = row['right_competitors'];\n",
        "  if((sel_patch == 'left' and left_comp>right_comp )or (sel_patch == 'right' and left_comp<right_comp)):\n",
        "    threat_competetive_count= threat_competetive_count + 1; \n",
        "  else : \n",
        "    threat_less_comp_count = threat_less_comp_count + 1; \n",
        "for i, row in safe_df_constant_reward.iterrows(): \n",
        "  sel_patch = row['patch_selected'];\n",
        "  left_comp = row['left_competitors'];\n",
        "  right_comp = row['right_competitors'];\n",
        "  if((sel_patch == 'left' and left_comp>right_comp )or (sel_patch == 'right' and left_comp<right_comp)):\n",
        "    safe_competetive_count= safe_competetive_count + 1; \n",
        "  else : \n",
        "    safe_less_comp_count = safe_less_comp_count + 1; \n"
      ],
      "metadata": {
        "id": "xN9BRZ_lkf54"
      },
      "execution_count": 19,
      "outputs": []
    },
    {
      "cell_type": "code",
      "source": [
        "from matplotlib import pyplot as plt\n",
        "\n",
        "fig, axes = plt.subplots(1, 2)\n",
        "fig.set_figwidth(10)\n",
        "plt.suptitle(\"Constant reward\")\n",
        "\n",
        "sns.barplot( ['More Competetors','Less Competetors'], [threat_competetive_count, threat_less_comp_count],ax= axes[0]).set(\n",
        "    title=\"Threat Case\" , ylabel = \"Number of Choices\")\n",
        "\n",
        "sns.barplot( ['More Competetors','Less Competetors'], [safe_competetive_count, safe_less_comp_count],ax= axes[1]).set(\n",
        "    title=\"Safe Case\" , ylabel = \"Number of Choices\")\n"
      ],
      "metadata": {
        "id": "sJenDBK5kqq9",
        "colab": {
          "base_uri": "https://localhost:8080/",
          "height": 399
        },
        "outputId": "9be0f344-f3bf-41bb-c0a9-711fb46fd0b2"
      },
      "execution_count": 20,
      "outputs": [
        {
          "output_type": "stream",
          "name": "stderr",
          "text": [
            "/usr/local/lib/python3.7/dist-packages/seaborn/_decorators.py:43: FutureWarning: Pass the following variables as keyword args: x, y. From version 0.12, the only valid positional argument will be `data`, and passing other arguments without an explicit keyword will result in an error or misinterpretation.\n",
            "  FutureWarning\n",
            "/usr/local/lib/python3.7/dist-packages/seaborn/_decorators.py:43: FutureWarning: Pass the following variables as keyword args: x, y. From version 0.12, the only valid positional argument will be `data`, and passing other arguments without an explicit keyword will result in an error or misinterpretation.\n",
            "  FutureWarning\n"
          ]
        },
        {
          "output_type": "execute_result",
          "data": {
            "text/plain": [
              "[Text(0, 0.5, 'Number of Choices'), Text(0.5, 1.0, 'Safe Case')]"
            ]
          },
          "metadata": {},
          "execution_count": 20
        },
        {
          "output_type": "display_data",
          "data": {
            "text/plain": [
              "<Figure size 720x288 with 2 Axes>"
            ],
            "image/png": "[encoded data removed]"
          },
          "metadata": {
            "needs_background": "light"
          }
        }
      ]
    },
    {
      "cell_type": "code",
      "source": [
        "threat_df_variable_reward = variable_reward_df[variable_reward_df['threat'] == 1]\n",
        "safe_df_variable_reward = variable_reward_df[variable_reward_df['threat'] == 0]\n",
        "threat_competetive_count =0 ; \n",
        "safe_competetive_count= 0 ;\n",
        "threat_less_comp_count= 0 ; \n",
        "safe_less_comp_count= 0 ; \n",
        "for i, row in threat_df_variable_reward.iterrows(): \n",
        "  sel_patch = row['patch_selected'];\n",
        "  left_comp = row['left_competitors'];\n",
        "  right_comp = row['right_competitors'];\n",
        "  if((sel_patch == 'left' and left_comp>right_comp )or (sel_patch == 'right' and left_comp<right_comp)):\n",
        "    threat_competetive_count= threat_competetive_count + 1; \n",
        "  else : \n",
        "    threat_less_comp_count = threat_less_comp_count + 1; \n",
        "for i, row in safe_df_variable_reward.iterrows(): \n",
        "  sel_patch = row['patch_selected'];\n",
        "  left_comp = row['left_competitors'];\n",
        "  right_comp = row['right_competitors'];\n",
        "  if((sel_patch == 'left' and left_comp>right_comp )or (sel_patch == 'right' and left_comp<right_comp)):\n",
        "    safe_competetive_count= safe_competetive_count + 1; \n",
        "  else : \n",
        "    safe_less_comp_count = safe_less_comp_count + 1; \n"
      ],
      "metadata": {
        "id": "-7J-hdqCNcYa"
      },
      "execution_count": 21,
      "outputs": []
    },
    {
      "cell_type": "code",
      "source": [
        "from matplotlib import pyplot as plt\n",
        "\n",
        "fig, axes = plt.subplots(1, 2)\n",
        "fig.set_figwidth(10)\n",
        "plt.suptitle(\"Variable reward\")\n",
        "\n",
        "sns.barplot( ['More Competetors','Less Competetors'], [threat_competetive_count, threat_less_comp_count],ax= axes[0]).set(\n",
        "    title=\"Threat Case\" , ylabel = \"Number of Choices\")\n",
        "sns.barplot( ['More Competetors','Less Competetors'], [safe_competetive_count, safe_less_comp_count],ax= axes[1]).set(\n",
        "    title=\"Safe Case\" , ylabel = \"Number of Choices\")\n"
      ],
      "metadata": {
        "id": "Xt_QLDG8NsGM",
        "colab": {
          "base_uri": "https://localhost:8080/",
          "height": 399
        },
        "outputId": "c2925db8-ce3c-4c10-9050-7002ca5a93e1"
      },
      "execution_count": 22,
      "outputs": [
        {
          "output_type": "stream",
          "name": "stderr",
          "text": [
            "/usr/local/lib/python3.7/dist-packages/seaborn/_decorators.py:43: FutureWarning: Pass the following variables as keyword args: x, y. From version 0.12, the only valid positional argument will be `data`, and passing other arguments without an explicit keyword will result in an error or misinterpretation.\n",
            "  FutureWarning\n",
            "/usr/local/lib/python3.7/dist-packages/seaborn/_decorators.py:43: FutureWarning: Pass the following variables as keyword args: x, y. From version 0.12, the only valid positional argument will be `data`, and passing other arguments without an explicit keyword will result in an error or misinterpretation.\n",
            "  FutureWarning\n"
          ]
        },
        {
          "output_type": "execute_result",
          "data": {
            "text/plain": [
              "[Text(0, 0.5, 'Number of Choices'), Text(0.5, 1.0, 'Safe Case')]"
            ]
          },
          "metadata": {},
          "execution_count": 22
        },
        {
          "output_type": "display_data",
          "data": {
            "text/plain": [
              "<Figure size 720x288 with 2 Axes>"
            ],
            "image/png": "[encoded data removed]"
          },
          "metadata": {
            "needs_background": "light"
          }
        }
      ]
    },
    {
      "cell_type": "code",
      "source": [
        "# reaction time analysis \n",
        "mean_resp_time = test_df[test_df['key_resp.rt']<=3]['key_resp.rt'].mean()\n",
        "constant_reward_df = constant_reward_df[constant_reward_df['key_resp.rt']<3];\n",
        "variable_reward_df = variable_reward_df[variable_reward_df['key_resp.rt']<3];\n",
        "threat_resp_time_constant_reward = threat_df_constant_reward[threat_df_constant_reward['key_resp.rt']<3]['key_resp.rt'].tolist(); \n",
        "threat_resp_time_variable_reward = threat_df_variable_reward[threat_df_variable_reward['key_resp.rt']<3]['key_resp.rt'].tolist();\n",
        "safe_resp_time_constant_reward= safe_df_constant_reward[safe_df_constant_reward['key_resp.rt']<3]['key_resp.rt'].tolist();\n",
        "safe_resp_time_variable_reward=safe_df_variable_reward[safe_df_variable_reward['key_resp.rt']<3]['key_resp.rt'].tolist();\n",
        "safe_resp_time= safe_df[safe_df['key_resp.rt']<3]['key_resp.rt'].tolist();\n",
        "threat_resp_time= threat_df[threat_df['key_resp.rt']<3]['key_resp.rt'].tolist();\n",
        "\n"
      ],
      "metadata": {
        "id": "_2Tn08ZSl_Ha"
      },
      "execution_count": 23,
      "outputs": []
    },
    {
      "cell_type": "code",
      "source": [
        "fig, axes = plt.subplots(1, 2)\n",
        "fig.set_figwidth(10)\n",
        "order = ['True', 'False']\n",
        "bp1 = sns.boxplot(x='str_threat', y='key_resp.rt', data=constant_reward_df, ax= axes[0],order = order)\n",
        "bp2 = sns.boxplot('str_threat', 'key_resp.rt', data=variable_reward_df, ax= axes[1],order=order)\n",
        "bp1.set(ylabel = \"Response Time\")\n",
        "bp2.set( ylabel = \"Response Time\")\n",
        "add_stat_annotation(bp1, data=constant_reward_df, x='str_threat', y='key_resp.rt',order=order,\n",
        "                    box_pairs=[(\"False\", \"True\")],\n",
        "                    test='Mann-Whitney', text_format='star', loc='outside', verbose=2)\n",
        "\n",
        "add_stat_annotation(bp2, data=variable_reward_df, x='str_threat', y='key_resp.rt',order=order,\n",
        "                    box_pairs=[(\"False\", \"True\")],\n",
        "                    test='Mann-Whitney', text_format='star', loc='outside', verbose=2)\n",
        "plt.suptitle(\"Constant reward                                                 Variable Reward\")\n",
        "plt.subplots_adjust(top=0.85)"
      ],
      "metadata": {
        "id": "rw6KIIeAijKM",
        "colab": {
          "base_uri": "https://localhost:8080/",
          "height": 635
        },
        "outputId": "5cceae1e-d55f-436d-b0df-fc510ec82ddc"
      },
      "execution_count": 28,
      "outputs": [
        {
          "output_type": "stream",
          "name": "stderr",
          "text": [
            "/usr/local/lib/python3.7/dist-packages/seaborn/_decorators.py:43: FutureWarning: Pass the following variables as keyword args: x, y. From version 0.12, the only valid positional argument will be `data`, and passing other arguments without an explicit keyword will result in an error or misinterpretation.\n",
            "  FutureWarning\n"
          ]
        },
        {
          "output_type": "stream",
          "name": "stdout",
          "text": [
            "p-value annotation legend:\n",
            "ns: 5.00e-02 < p <= 1.00e+00\n",
            "*: 1.00e-02 < p <= 5.00e-02\n",
            "**: 1.00e-03 < p <= 1.00e-02\n",
            "***: 1.00e-04 < p <= 1.00e-03\n",
            "****: p <= 1.00e-04\n",
            "\n",
            "True v.s. False: Mann-Whitney-Wilcoxon test two-sided with Bonferroni correction, P_val=5.444e-02 U_stat=2.061e+03\n",
            "p-value annotation legend:\n",
            "ns: 5.00e-02 < p <= 1.00e+00\n",
            "*: 1.00e-02 < p <= 5.00e-02\n",
            "**: 1.00e-03 < p <= 1.00e-02\n",
            "***: 1.00e-04 < p <= 1.00e-03\n",
            "****: p <= 1.00e-04\n",
            "\n",
            "True v.s. False: Mann-Whitney-Wilcoxon test two-sided with Bonferroni correction, P_val=1.241e-03 U_stat=2.265e+03\n"
          ]
        },
        {
          "output_type": "display_data",
          "data": {
            "text/plain": [
              "<Figure size 720x288 with 2 Axes>"
            ],
            "image/png": "[encoded data removed]"
          },
          "metadata": {
            "needs_background": "light"
          }
        }
      ]
    },
    {
      "cell_type": "code",
      "source": [
        "threat_df['more_comp_selected'] = True\n",
        "for i, row in threat_df.iterrows():\n",
        "    yes = True\n",
        "    if row['patch_selected'] == 'left':\n",
        "        if(row['left_competitors'] >= row['right_competitors']):\n",
        "            yes = True\n",
        "        else:\n",
        "            yes = False\n",
        "    else:\n",
        "        if(row['right_competitors'] >= row['left_competitors']):\n",
        "            yes = True\n",
        "        else:\n",
        "            yes = False\n",
        "    threat_df.at[i, 'more_comp_selected'] = yes\n",
        "threat_df['str_more_comp_selected']=threat_df['more_comp_selected'].astype(str)\n",
        "threat_df\n"
      ],
      "metadata": {
        "id": "210mB22SooqO",
        "colab": {
          "base_uri": "https://localhost:8080/",
          "height": 687
        },
        "outputId": "f6525800-caff-47b6-c012-37db0eb3c832"
      },
      "execution_count": 29,
      "outputs": [
        {
          "output_type": "stream",
          "name": "stderr",
          "text": [
            "/usr/local/lib/python3.7/dist-packages/ipykernel_launcher.py:1: SettingWithCopyWarning: \n",
            "A value is trying to be set on a copy of a slice from a DataFrame.\n",
            "Try using .loc[row_indexer,col_indexer] = value instead\n",
            "\n",
            "See the caveats in the documentation: https://pandas.pydata.org/pandas-docs/stable/user_guide/indexing.html#returning-a-view-versus-a-copy\n",
            "  \"\"\"Entry point for launching an IPython kernel.\n",
            "/usr/local/lib/python3.7/dist-packages/ipykernel_launcher.py:15: SettingWithCopyWarning: \n",
            "A value is trying to be set on a copy of a slice from a DataFrame.\n",
            "Try using .loc[row_indexer,col_indexer] = value instead\n",
            "\n",
            "See the caveats in the documentation: https://pandas.pydata.org/pandas-docs/stable/user_guide/indexing.html#returning-a-view-versus-a-copy\n",
            "  from ipykernel import kernelapp as app\n"
          ]
        },
        {
          "output_type": "execute_result",
          "data": {
            "text/plain": [
              "     S.No  rep_no  left_competitors  right_competitors  threat  no_rewards  \\\n",
              "0       1       0                 5                  1    True           1   \n",
              "4       5       4                 1                  4    True           2   \n",
              "6       7       6                 1                  4    True           1   \n",
              "7       8       7                 1                  4    True           3   \n",
              "8       9       8                 5                  1    True           2   \n",
              "..    ...     ...               ...                ...     ...         ...   \n",
              "233   234       8                 2                  5    True           3   \n",
              "234   235       9                 5                  1    True           3   \n",
              "236   237      11                 1                  4    True           3   \n",
              "237   238      12                 2                  5    True           3   \n",
              "239   240      14                 1                  4    True           3   \n",
              "\n",
              "    patch_selected  key_resp.rt  rewards_captured  shock  \\\n",
              "0             left     0.669967                 0   -100   \n",
              "4             left     0.460643                 0   -100   \n",
              "6            right     0.636372                 0      0   \n",
              "7             left     0.398171               200   -100   \n",
              "8            right     1.150315               100   -100   \n",
              "..             ...          ...               ...    ...   \n",
              "233          right     0.537860               200      0   \n",
              "234          right     0.237921               200   -100   \n",
              "236           left     0.682030               200   -100   \n",
              "237          right     0.236906               100      0   \n",
              "239          right     0.421071               100   -100   \n",
              "\n",
              "     total_reward_captured  total_no_movements participant  constant_reward  \\\n",
              "0                     -100                  64     Harshit                0   \n",
              "4                      400                  29     Harshit                0   \n",
              "6                      700                  80     Harshit                0   \n",
              "7                      800                  49     Harshit                0   \n",
              "8                      800                  27     Harshit                0   \n",
              "..                     ...                 ...         ...              ...   \n",
              "233                   1600                  43      nitesh                1   \n",
              "234                   1700                  29      nitesh                1   \n",
              "236                   2000                  31      nitesh                1   \n",
              "237                   2100                  37      nitesh                1   \n",
              "239                   2400                  56      nitesh                1   \n",
              "\n",
              "     current_patch_comp str_threat  total_reward_in_session      ppv  \\\n",
              "0                     5       True                      400  0.10000   \n",
              "4                     1       True                      400  0.00000   \n",
              "6                     4       True                      800  0.09375   \n",
              "7                     1       True                      800  0.50000   \n",
              "8                     1       True                      800  0.25000   \n",
              "..                  ...        ...                      ...      ...   \n",
              "233                   5       True                     1700  0.60000   \n",
              "234                   1       True                     1700  0.50000   \n",
              "236                   1       True                     2400  0.50000   \n",
              "237                   5       True                     2400  0.35000   \n",
              "239                   4       True                     2400  0.34375   \n",
              "\n",
              "     more_comp_selected str_more_comp_selected  \n",
              "0                  True                   True  \n",
              "4                 False                  False  \n",
              "6                  True                   True  \n",
              "7                 False                  False  \n",
              "8                 False                  False  \n",
              "..                  ...                    ...  \n",
              "233                True                   True  \n",
              "234               False                  False  \n",
              "236               False                  False  \n",
              "237                True                   True  \n",
              "239                True                   True  \n",
              "\n",
              "[116 rows x 20 columns]"
            ],
            "text/html": [
              "\n",
              "  <div id=\"df-f02f1f75-6a7a-4166-abea-fd267759ee55\">\n",
              "    <div class=\"colab-df-container\">\n",
              "      <div>\n",
              "<style scoped>\n",
              "    .dataframe tbody tr th:only-of-type {\n",
              "        vertical-align: middle;\n",
              "    }\n",
              "\n",
              "    .dataframe tbody tr th {\n",
              "        vertical-align: top;\n",
              "    }\n",
              "\n",
              "    .dataframe thead th {\n",
              "        text-align: right;\n",
              "    }\n",
              "</style>\n",
              "<table border=\"1\" class=\"dataframe\">\n",
              "  <thead>\n",
              "    <tr style=\"text-align: right;\">\n",
              "      <th></th>\n",
              "      <th>S.No</th>\n",
              "      <th>rep_no</th>\n",
              "      <th>left_competitors</th>\n",
              "      <th>right_competitors</th>\n",
              "      <th>threat</th>\n",
              "      <th>no_rewards</th>\n",
              "      <th>patch_selected</th>\n",
              "      <th>key_resp.rt</th>\n",
              "      <th>rewards_captured</th>\n",
              "      <th>shock</th>\n",
              "      <th>total_reward_captured</th>\n",
              "      <th>total_no_movements</th>\n",
              "      <th>participant</th>\n",
              "      <th>constant_reward</th>\n",
              "      <th>current_patch_comp</th>\n",
              "      <th>str_threat</th>\n",
              "      <th>total_reward_in_session</th>\n",
              "      <th>ppv</th>\n",
              "      <th>more_comp_selected</th>\n",
              "      <th>str_more_comp_selected</th>\n",
              "    </tr>\n",
              "  </thead>\n",
              "  <tbody>\n",
              "    <tr>\n",
              "      <th>0</th>\n",
              "      <td>1</td>\n",
              "      <td>0</td>\n",
              "      <td>5</td>\n",
              "      <td>1</td>\n",
              "      <td>True</td>\n",
              "      <td>1</td>\n",
              "      <td>left</td>\n",
              "      <td>0.669967</td>\n",
              "      <td>0</td>\n",
              "      <td>-100</td>\n",
              "      <td>-100</td>\n",
              "      <td>64</td>\n",
              "      <td>Harshit</td>\n",
              "      <td>0</td>\n",
              "      <td>5</td>\n",
              "      <td>True</td>\n",
              "      <td>400</td>\n",
              "      <td>0.10000</td>\n",
              "      <td>True</td>\n",
              "      <td>True</td>\n",
              "    </tr>\n",
              "    <tr>\n",
              "      <th>4</th>\n",
              "      <td>5</td>\n",
              "      <td>4</td>\n",
              "      <td>1</td>\n",
              "      <td>4</td>\n",
              "      <td>True</td>\n",
              "      <td>2</td>\n",
              "      <td>left</td>\n",
              "      <td>0.460643</td>\n",
              "      <td>0</td>\n",
              "      <td>-100</td>\n",
              "      <td>400</td>\n",
              "      <td>29</td>\n",
              "      <td>Harshit</td>\n",
              "      <td>0</td>\n",
              "      <td>1</td>\n",
              "      <td>True</td>\n",
              "      <td>400</td>\n",
              "      <td>0.00000</td>\n",
              "      <td>False</td>\n",
              "      <td>False</td>\n",
              "    </tr>\n",
              "    <tr>\n",
              "      <th>6</th>\n",
              "      <td>7</td>\n",
              "      <td>6</td>\n",
              "      <td>1</td>\n",
              "      <td>4</td>\n",
              "      <td>True</td>\n",
              "      <td>1</td>\n",
              "      <td>right</td>\n",
              "      <td>0.636372</td>\n",
              "      <td>0</td>\n",
              "      <td>0</td>\n",
              "      <td>700</td>\n",
              "      <td>80</td>\n",
              "      <td>Harshit</td>\n",
              "      <td>0</td>\n",
              "      <td>4</td>\n",
              "      <td>True</td>\n",
              "      <td>800</td>\n",
              "      <td>0.09375</td>\n",
              "      <td>True</td>\n",
              "      <td>True</td>\n",
              "    </tr>\n",
              "    <tr>\n",
              "      <th>7</th>\n",
              "      <td>8</td>\n",
              "      <td>7</td>\n",
              "      <td>1</td>\n",
              "      <td>4</td>\n",
              "      <td>True</td>\n",
              "      <td>3</td>\n",
              "      <td>left</td>\n",
              "      <td>0.398171</td>\n",
              "      <td>200</td>\n",
              "      <td>-100</td>\n",
              "      <td>800</td>\n",
              "      <td>49</td>\n",
              "      <td>Harshit</td>\n",
              "      <td>0</td>\n",
              "      <td>1</td>\n",
              "      <td>True</td>\n",
              "      <td>800</td>\n",
              "      <td>0.50000</td>\n",
              "      <td>False</td>\n",
              "      <td>False</td>\n",
              "    </tr>\n",
              "    <tr>\n",
              "      <th>8</th>\n",
              "      <td>9</td>\n",
              "      <td>8</td>\n",
              "      <td>5</td>\n",
              "      <td>1</td>\n",
              "      <td>True</td>\n",
              "      <td>2</td>\n",
              "      <td>right</td>\n",
              "      <td>1.150315</td>\n",
              "      <td>100</td>\n",
              "      <td>-100</td>\n",
              "      <td>800</td>\n",
              "      <td>27</td>\n",
              "      <td>Harshit</td>\n",
              "      <td>0</td>\n",
              "      <td>1</td>\n",
              "      <td>True</td>\n",
              "      <td>800</td>\n",
              "      <td>0.25000</td>\n",
              "      <td>False</td>\n",
              "      <td>False</td>\n",
              "    </tr>\n",
              "    <tr>\n",
              "      <th>...</th>\n",
              "      <td>...</td>\n",
              "      <td>...</td>\n",
              "      <td>...</td>\n",
              "      <td>...</td>\n",
              "      <td>...</td>\n",
              "      <td>...</td>\n",
              "      <td>...</td>\n",
              "      <td>...</td>\n",
              "      <td>...</td>\n",
              "      <td>...</td>\n",
              "      <td>...</td>\n",
              "      <td>...</td>\n",
              "      <td>...</td>\n",
              "      <td>...</td>\n",
              "      <td>...</td>\n",
              "      <td>...</td>\n",
              "      <td>...</td>\n",
              "      <td>...</td>\n",
              "      <td>...</td>\n",
              "      <td>...</td>\n",
              "    </tr>\n",
              "    <tr>\n",
              "      <th>233</th>\n",
              "      <td>234</td>\n",
              "      <td>8</td>\n",
              "      <td>2</td>\n",
              "      <td>5</td>\n",
              "      <td>True</td>\n",
              "      <td>3</td>\n",
              "      <td>right</td>\n",
              "      <td>0.537860</td>\n",
              "      <td>200</td>\n",
              "      <td>0</td>\n",
              "      <td>1600</td>\n",
              "      <td>43</td>\n",
              "      <td>nitesh</td>\n",
              "      <td>1</td>\n",
              "      <td>5</td>\n",
              "      <td>True</td>\n",
              "      <td>1700</td>\n",
              "      <td>0.60000</td>\n",
              "      <td>True</td>\n",
              "      <td>True</td>\n",
              "    </tr>\n",
              "    <tr>\n",
              "      <th>234</th>\n",
              "      <td>235</td>\n",
              "      <td>9</td>\n",
              "      <td>5</td>\n",
              "      <td>1</td>\n",
              "      <td>True</td>\n",
              "      <td>3</td>\n",
              "      <td>right</td>\n",
              "      <td>0.237921</td>\n",
              "      <td>200</td>\n",
              "      <td>-100</td>\n",
              "      <td>1700</td>\n",
              "      <td>29</td>\n",
              "      <td>nitesh</td>\n",
              "      <td>1</td>\n",
              "      <td>1</td>\n",
              "      <td>True</td>\n",
              "      <td>1700</td>\n",
              "      <td>0.50000</td>\n",
              "      <td>False</td>\n",
              "      <td>False</td>\n",
              "    </tr>\n",
              "    <tr>\n",
              "      <th>236</th>\n",
              "      <td>237</td>\n",
              "      <td>11</td>\n",
              "      <td>1</td>\n",
              "      <td>4</td>\n",
              "      <td>True</td>\n",
              "      <td>3</td>\n",
              "      <td>left</td>\n",
              "      <td>0.682030</td>\n",
              "      <td>200</td>\n",
              "      <td>-100</td>\n",
              "      <td>2000</td>\n",
              "      <td>31</td>\n",
              "      <td>nitesh</td>\n",
              "      <td>1</td>\n",
              "      <td>1</td>\n",
              "      <td>True</td>\n",
              "      <td>2400</td>\n",
              "      <td>0.50000</td>\n",
              "      <td>False</td>\n",
              "      <td>False</td>\n",
              "    </tr>\n",
              "    <tr>\n",
              "      <th>237</th>\n",
              "      <td>238</td>\n",
              "      <td>12</td>\n",
              "      <td>2</td>\n",
              "      <td>5</td>\n",
              "      <td>True</td>\n",
              "      <td>3</td>\n",
              "      <td>right</td>\n",
              "      <td>0.236906</td>\n",
              "      <td>100</td>\n",
              "      <td>0</td>\n",
              "      <td>2100</td>\n",
              "      <td>37</td>\n",
              "      <td>nitesh</td>\n",
              "      <td>1</td>\n",
              "      <td>5</td>\n",
              "      <td>True</td>\n",
              "      <td>2400</td>\n",
              "      <td>0.35000</td>\n",
              "      <td>True</td>\n",
              "      <td>True</td>\n",
              "    </tr>\n",
              "    <tr>\n",
              "      <th>239</th>\n",
              "      <td>240</td>\n",
              "      <td>14</td>\n",
              "      <td>1</td>\n",
              "      <td>4</td>\n",
              "      <td>True</td>\n",
              "      <td>3</td>\n",
              "      <td>right</td>\n",
              "      <td>0.421071</td>\n",
              "      <td>100</td>\n",
              "      <td>-100</td>\n",
              "      <td>2400</td>\n",
              "      <td>56</td>\n",
              "      <td>nitesh</td>\n",
              "      <td>1</td>\n",
              "      <td>4</td>\n",
              "      <td>True</td>\n",
              "      <td>2400</td>\n",
              "      <td>0.34375</td>\n",
              "      <td>True</td>\n",
              "      <td>True</td>\n",
              "    </tr>\n",
              "  </tbody>\n",
              "</table>\n",
              "<p>116 rows × 20 columns</p>\n",
              "</div>\n",
              "      <button class=\"colab-df-convert\" onclick=\"convertToInteractive('df-f02f1f75-6a7a-4166-abea-fd267759ee55')\"\n",
              "              title=\"Convert this dataframe to an interactive table.\"\n",
              "              style=\"display:none;\">\n",
              "        \n",
              "  <svg xmlns=\"http://www.w3.org/2000/svg\" height=\"24px\"viewBox=\"0 0 24 24\"\n",
              "       width=\"24px\">\n",
              "    <path d=\"M0 0h24v24H0V0z\" fill=\"none\"/>\n",
              "    <path d=\"M18.56 5.44l.94 2.06.94-2.06 2.06-.94-2.06-.94-.94-2.06-.94 2.06-2.06.94zm-11 1L8.5 8.5l.94-2.06 2.06-.94-2.06-.94L8.5 2.5l-.94 2.06-2.06.94zm10 10l.94 2.06.94-2.06 2.06-.94-2.06-.94-.94-2.06-.94 2.06-2.06.94z\"/><path d=\"M17.41 7.96l-1.37-1.37c-.4-.4-.92-.59-1.43-.59-.52 0-1.04.2-1.43.59L10.3 9.45l-7.72 7.72c-.78.78-.78 2.05 0 2.83L4 21.41c.39.39.9.59 1.41.59.51 0 1.02-.2 1.41-.59l7.78-7.78 2.81-2.81c.8-.78.8-2.07 0-2.86zM5.41 20L4 18.59l7.72-7.72 1.47 1.35L5.41 20z\"/>\n",
              "  </svg>\n",
              "      </button>\n",
              "      \n",
              "  <style>\n",
              "    .colab-df-container {\n",
              "      display:flex;\n",
              "      flex-wrap:wrap;\n",
              "      gap: 12px;\n",
              "    }\n",
              "\n",
              "    .colab-df-convert {\n",
              "      background-color: #E8F0FE;\n",
              "      border: none;\n",
              "      border-radius: 50%;\n",
              "      cursor: pointer;\n",
              "      display: none;\n",
              "      fill: #1967D2;\n",
              "      height: 32px;\n",
              "      padding: 0 0 0 0;\n",
              "      width: 32px;\n",
              "    }\n",
              "\n",
              "    .colab-df-convert:hover {\n",
              "      background-color: #E2EBFA;\n",
              "      box-shadow: 0px 1px 2px rgba(60, 64, 67, 0.3), 0px 1px 3px 1px rgba(60, 64, 67, 0.15);\n",
              "      fill: #174EA6;\n",
              "    }\n",
              "\n",
              "    [theme=dark] .colab-df-convert {\n",
              "      background-color: #3B4455;\n",
              "      fill: #D2E3FC;\n",
              "    }\n",
              "\n",
              "    [theme=dark] .colab-df-convert:hover {\n",
              "      background-color: #434B5C;\n",
              "      box-shadow: 0px 1px 3px 1px rgba(0, 0, 0, 0.15);\n",
              "      filter: drop-shadow(0px 1px 2px rgba(0, 0, 0, 0.3));\n",
              "      fill: #FFFFFF;\n",
              "    }\n",
              "  </style>\n",
              "\n",
              "      <script>\n",
              "        const buttonEl =\n",
              "          document.querySelector('#df-f02f1f75-6a7a-4166-abea-fd267759ee55 button.colab-df-convert');\n",
              "        buttonEl.style.display =\n",
              "          google.colab.kernel.accessAllowed ? 'block' : 'none';\n",
              "\n",
              "        async function convertToInteractive(key) {\n",
              "          const element = document.querySelector('#df-f02f1f75-6a7a-4166-abea-fd267759ee55');\n",
              "          const dataTable =\n",
              "            await google.colab.kernel.invokeFunction('convertToInteractive',\n",
              "                                                     [key], {});\n",
              "          if (!dataTable) return;\n",
              "\n",
              "          const docLinkHtml = 'Like what you see? Visit the ' +\n",
              "            '<a target=\"_blank\" href=https://colab.research.google.com/notebooks/data_table.ipynb>data table notebook</a>'\n",
              "            + ' to learn more about interactive tables.';\n",
              "          element.innerHTML = '';\n",
              "          dataTable['output_type'] = 'display_data';\n",
              "          await google.colab.output.renderOutput(dataTable, element);\n",
              "          const docLink = document.createElement('div');\n",
              "          docLink.innerHTML = docLinkHtml;\n",
              "          element.appendChild(docLink);\n",
              "        }\n",
              "      </script>\n",
              "    </div>\n",
              "  </div>\n",
              "  "
            ]
          },
          "metadata": {},
          "execution_count": 29
        }
      ]
    },
    {
      "cell_type": "code",
      "source": [
        "fig, axes = plt.subplots(1, 2)\n",
        "fig.set_figwidth(10)\n",
        "\n",
        "order = ['False', 'True']\n",
        "bp1 = sns.boxplot('str_more_comp_selected', 'key_resp.rt', data=threat_df[threat_df['constant_reward']==1], ax = axes[0])\n",
        "bp2=  sns.boxplot('str_more_comp_selected', 'key_resp.rt', data=threat_df[threat_df['constant_reward']==0], ax = axes[1])\n",
        "\n",
        "bp1.set(title = \"constant reward\",ylabel = \"Response Time\",xlabel=\"More Comp Patch selected\")\n",
        "bp2.set( title = \"variable reward\",ylabel = \"Response Time\",xlabel=\"More Comp Patch selected\")\n",
        "\n",
        "plt.suptitle(\"Threat\")\n"
      ],
      "metadata": {
        "id": "h5t2RPjzqyjk",
        "colab": {
          "base_uri": "https://localhost:8080/",
          "height": 413
        },
        "outputId": "8317e061-ae11-4f79-96cc-f2d2fb06d9be"
      },
      "execution_count": 30,
      "outputs": [
        {
          "output_type": "stream",
          "name": "stderr",
          "text": [
            "/usr/local/lib/python3.7/dist-packages/seaborn/_decorators.py:43: FutureWarning: Pass the following variables as keyword args: x, y. From version 0.12, the only valid positional argument will be `data`, and passing other arguments without an explicit keyword will result in an error or misinterpretation.\n",
            "  FutureWarning\n",
            "/usr/local/lib/python3.7/dist-packages/seaborn/_decorators.py:43: FutureWarning: Pass the following variables as keyword args: x, y. From version 0.12, the only valid positional argument will be `data`, and passing other arguments without an explicit keyword will result in an error or misinterpretation.\n",
            "  FutureWarning\n"
          ]
        },
        {
          "output_type": "execute_result",
          "data": {
            "text/plain": [
              "Text(0.5, 0.98, 'Threat')"
            ]
          },
          "metadata": {},
          "execution_count": 30
        },
        {
          "output_type": "display_data",
          "data": {
            "text/plain": [
              "<Figure size 720x288 with 2 Axes>"
            ],
            "image/png": "[encoded data removed]"
          },
          "metadata": {
            "needs_background": "light"
          }
        }
      ]
    },
    {
      "cell_type": "code",
      "source": [
        "safe_df['more_comp_selected'] = True\n",
        "for i, row in safe_df.iterrows():\n",
        "    yes = True\n",
        "    if row['patch_selected'] == 'left':\n",
        "        if(row['left_competitors'] >= row['right_competitors']):\n",
        "            yes = True\n",
        "        else:\n",
        "            yes = False\n",
        "    else:\n",
        "        if(row['right_competitors'] >= row['left_competitors']):\n",
        "            yes = True\n",
        "        else:\n",
        "            yes = False\n",
        "    safe_df.at[i, 'more_comp_selected'] = yes\n",
        "safe_df['str_more_comp_selected']=safe_df['more_comp_selected'].astype(str)\n",
        "\n",
        "#safe_df"
      ],
      "metadata": {
        "id": "fS4xSzUUq1Gg",
        "colab": {
          "base_uri": "https://localhost:8080/"
        },
        "outputId": "ec80d704-bdcc-437b-a268-c5ce6aca579a"
      },
      "execution_count": 31,
      "outputs": [
        {
          "output_type": "stream",
          "name": "stderr",
          "text": [
            "/usr/local/lib/python3.7/dist-packages/ipykernel_launcher.py:1: SettingWithCopyWarning: \n",
            "A value is trying to be set on a copy of a slice from a DataFrame.\n",
            "Try using .loc[row_indexer,col_indexer] = value instead\n",
            "\n",
            "See the caveats in the documentation: https://pandas.pydata.org/pandas-docs/stable/user_guide/indexing.html#returning-a-view-versus-a-copy\n",
            "  \"\"\"Entry point for launching an IPython kernel.\n",
            "/usr/local/lib/python3.7/dist-packages/ipykernel_launcher.py:15: SettingWithCopyWarning: \n",
            "A value is trying to be set on a copy of a slice from a DataFrame.\n",
            "Try using .loc[row_indexer,col_indexer] = value instead\n",
            "\n",
            "See the caveats in the documentation: https://pandas.pydata.org/pandas-docs/stable/user_guide/indexing.html#returning-a-view-versus-a-copy\n",
            "  from ipykernel import kernelapp as app\n"
          ]
        }
      ]
    },
    {
      "cell_type": "code",
      "source": [
        "fig, axes = plt.subplots(1, 2)\n",
        "fig.set_figwidth(10)\n",
        "plt.suptitle(\"Safe case\")\n",
        "bp1 = sns.boxplot('str_more_comp_selected', 'key_resp.rt', data=safe_df[safe_df['constant_reward']==1], ax = axes[0], order = order)\n",
        "bp2 =sns.boxplot('str_more_comp_selected', 'key_resp.rt', data=safe_df[safe_df['constant_reward']==0], ax = axes[1], order = order)\n",
        "bp1.set(title = \"Constant reward\",ylabel = \"Response Time\",xlabel=\"More Comp Patch selected\")\n",
        "bp2.set(title = \" Variable reward\", ylabel = \"Response Time\",xlabel=\"More Comp Patch selected\")\n",
        "\n",
        "plt.suptitle(\"Safe Patch\")\n"
      ],
      "metadata": {
        "id": "_jVh8XQsoo1A",
        "colab": {
          "base_uri": "https://localhost:8080/",
          "height": 413
        },
        "outputId": "acd8bf80-6a32-4f1f-dfb2-98e3fb674993"
      },
      "execution_count": 32,
      "outputs": [
        {
          "output_type": "stream",
          "name": "stderr",
          "text": [
            "/usr/local/lib/python3.7/dist-packages/seaborn/_decorators.py:43: FutureWarning: Pass the following variables as keyword args: x, y. From version 0.12, the only valid positional argument will be `data`, and passing other arguments without an explicit keyword will result in an error or misinterpretation.\n",
            "  FutureWarning\n",
            "/usr/local/lib/python3.7/dist-packages/seaborn/_decorators.py:43: FutureWarning: Pass the following variables as keyword args: x, y. From version 0.12, the only valid positional argument will be `data`, and passing other arguments without an explicit keyword will result in an error or misinterpretation.\n",
            "  FutureWarning\n"
          ]
        },
        {
          "output_type": "execute_result",
          "data": {
            "text/plain": [
              "Text(0.5, 0.98, 'Safe Patch')"
            ]
          },
          "metadata": {},
          "execution_count": 32
        },
        {
          "output_type": "display_data",
          "data": {
            "text/plain": [
              "<Figure size 720x288 with 2 Axes>"
            ],
            "image/png": "[encoded data removed]"
          },
          "metadata": {
            "needs_background": "light"
          }
        }
      ]
    },
    {
      "cell_type": "code",
      "source": [
        "k=[];\n",
        "for ind, row in constant_reward_df.iterrows():\n",
        "   if row['patch_selected'] == 'left' : \n",
        "     k.append(row['left_competitors']);\n",
        "   else : \n",
        "     k.append(row['right_competitors']);\n",
        "constant_reward_df['Comp_in_selected_patch']=k \n",
        "k=[];\n",
        "for ind, row in variable_reward_df.iterrows():\n",
        "   if row['patch_selected'] == 'left' : \n",
        "     k.append(row['left_competitors']);\n",
        "   else : \n",
        "     k.append(row['right_competitors']);\n",
        "variable_reward_df['Comp_in_selected_patch']=k "
      ],
      "metadata": {
        "id": "dJUxc3yiBNdI"
      },
      "execution_count": 33,
      "outputs": []
    },
    {
      "cell_type": "code",
      "source": [
        "fig, axes = plt.subplots(1, 2)\n",
        "fig.set_figwidth(10)\n",
        "ax1=sns.countplot(x='Comp_in_selected_patch',hue='threat',data=constant_reward_df, ax= axes[0])\n",
        "ax1.set(ylabel='Num of trial selected', title = \"Constant_reward\")\n",
        "ax2=sns.countplot(x='Comp_in_selected_patch',hue='threat',data=variable_reward_df, ax= axes[1])\n",
        "ax2.set(ylabel='Num of trial selected', title =\"Variable_reward\")"
      ],
      "metadata": {
        "id": "LCmHZaQWoo31",
        "colab": {
          "base_uri": "https://localhost:8080/",
          "height": 313
        },
        "outputId": "fa10aba7-6426-4360-e0a7-d68b6c1d0fc3"
      },
      "execution_count": 34,
      "outputs": [
        {
          "output_type": "execute_result",
          "data": {
            "text/plain": [
              "[Text(0, 0.5, 'Num of trial selected'), Text(0.5, 1.0, 'Variable_reward')]"
            ]
          },
          "metadata": {},
          "execution_count": 34
        },
        {
          "output_type": "display_data",
          "data": {
            "text/plain": [
              "<Figure size 720x288 with 2 Axes>"
            ],
            "image/png": "[encoded data removed]"
          },
          "metadata": {
            "needs_background": "light"
          }
        }
      ]
    },
    {
      "cell_type": "code",
      "source": [
        "bp = sns.boxplot('str_threat', 'rewards_captured', data=constant_reward_df)\n",
        "bp.set(ylabel = \"Reward Captured\",xlabel=\"Threat during Constant reward\")\n",
        "add_stat_annotation(bp, data=constant_reward_df, x='str_threat', y='rewards_captured',order=order,\n",
        "box_pairs=[(\"False\", \"True\")],\n",
        "test='Mann-Whitney', text_format='star', loc='outside', verbose=2)"
      ],
      "metadata": {
        "id": "6SeO7LSx9pJK",
        "colab": {
          "base_uri": "https://localhost:8080/",
          "height": 525
        },
        "outputId": "3b98a5d9-3c88-4310-e8a6-ee6fe0e0ee71"
      },
      "execution_count": 35,
      "outputs": [
        {
          "output_type": "stream",
          "name": "stdout",
          "text": [
            "p-value annotation legend:\n",
            "ns: 5.00e-02 < p <= 1.00e+00\n",
            "*: 1.00e-02 < p <= 5.00e-02\n",
            "**: 1.00e-03 < p <= 1.00e-02\n",
            "***: 1.00e-04 < p <= 1.00e-03\n",
            "****: p <= 1.00e-04\n",
            "\n",
            "False v.s. True: Mann-Whitney-Wilcoxon test two-sided with Bonferroni correction, P_val=2.581e-14 U_stat=3.047e+03\n"
          ]
        },
        {
          "output_type": "stream",
          "name": "stderr",
          "text": [
            "/usr/local/lib/python3.7/dist-packages/seaborn/_decorators.py:43: FutureWarning: Pass the following variables as keyword args: x, y. From version 0.12, the only valid positional argument will be `data`, and passing other arguments without an explicit keyword will result in an error or misinterpretation.\n",
            "  FutureWarning\n"
          ]
        },
        {
          "output_type": "execute_result",
          "data": {
            "text/plain": [
              "(<matplotlib.axes._subplots.AxesSubplot at 0x7f8ed8645b10>,\n",
              " [<statannot.StatResult.StatResult at 0x7f8ed85fa890>])"
            ]
          },
          "metadata": {},
          "execution_count": 35
        },
        {
          "output_type": "display_data",
          "data": {
            "text/plain": [
              "<Figure size 432x288 with 1 Axes>"
            ],
            "image/png": "[encoded data removed]"
          },
          "metadata": {
            "needs_background": "light"
          }
        }
      ]
    },
    {
      "cell_type": "code",
      "source": [
        "fig, axes = plt.subplots(1, 2)\n",
        "fig.set_figwidth(10)\n",
        "sns.barplot('no_rewards', 'more_comp_selected', data=safe_df, ax = axes[0]).set(title=\"Safe Case\")\n",
        "sns.barplot('no_rewards', 'more_comp_selected', data=threat_df, ax = axes[1]).set(title=\"Threat Case\")"
      ],
      "metadata": {
        "id": "oSw7UltoFk3s",
        "colab": {
          "base_uri": "https://localhost:8080/",
          "height": 401
        },
        "outputId": "5270592e-f5e6-4978-b5bd-9286ad94e31e"
      },
      "execution_count": 36,
      "outputs": [
        {
          "output_type": "stream",
          "name": "stderr",
          "text": [
            "/usr/local/lib/python3.7/dist-packages/seaborn/_decorators.py:43: FutureWarning: Pass the following variables as keyword args: x, y. From version 0.12, the only valid positional argument will be `data`, and passing other arguments without an explicit keyword will result in an error or misinterpretation.\n",
            "  FutureWarning\n",
            "/usr/local/lib/python3.7/dist-packages/seaborn/_decorators.py:43: FutureWarning: Pass the following variables as keyword args: x, y. From version 0.12, the only valid positional argument will be `data`, and passing other arguments without an explicit keyword will result in an error or misinterpretation.\n",
            "  FutureWarning\n"
          ]
        },
        {
          "output_type": "execute_result",
          "data": {
            "text/plain": [
              "[Text(0.5, 1.0, 'Threat Case')]"
            ]
          },
          "metadata": {},
          "execution_count": 36
        },
        {
          "output_type": "display_data",
          "data": {
            "text/plain": [
              "<Figure size 720x288 with 2 Axes>"
            ],
            "image/png": "[encoded data removed]"
          },
          "metadata": {
            "needs_background": "light"
          }
        }
      ]
    }
  ]
}